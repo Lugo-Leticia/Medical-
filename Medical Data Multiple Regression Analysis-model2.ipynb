{
 "cells": [
  {
   "cell_type": "markdown",
   "metadata": {},
   "source": [
    "### Import Libraries and Dataset"
   ]
  },
  {
   "cell_type": "code",
   "execution_count": 2,
   "metadata": {},
   "outputs": [
    {
     "data": {
      "text/html": [
       "<div>\n",
       "<style scoped>\n",
       "    .dataframe tbody tr th:only-of-type {\n",
       "        vertical-align: middle;\n",
       "    }\n",
       "\n",
       "    .dataframe tbody tr th {\n",
       "        vertical-align: top;\n",
       "    }\n",
       "\n",
       "    .dataframe thead th {\n",
       "        text-align: right;\n",
       "    }\n",
       "</style>\n",
       "<table border=\"1\" class=\"dataframe\">\n",
       "  <thead>\n",
       "    <tr style=\"text-align: right;\">\n",
       "      <th></th>\n",
       "      <th>CaseOrder</th>\n",
       "      <th>Customer_id</th>\n",
       "      <th>Interaction</th>\n",
       "      <th>UID</th>\n",
       "      <th>City</th>\n",
       "      <th>State</th>\n",
       "      <th>County</th>\n",
       "      <th>Zip</th>\n",
       "      <th>Lat</th>\n",
       "      <th>Lng</th>\n",
       "      <th>...</th>\n",
       "      <th>TotalCharge</th>\n",
       "      <th>Additional_charges</th>\n",
       "      <th>Item1</th>\n",
       "      <th>Item2</th>\n",
       "      <th>Item3</th>\n",
       "      <th>Item4</th>\n",
       "      <th>Item5</th>\n",
       "      <th>Item6</th>\n",
       "      <th>Item7</th>\n",
       "      <th>Item8</th>\n",
       "    </tr>\n",
       "  </thead>\n",
       "  <tbody>\n",
       "    <tr>\n",
       "      <th>0</th>\n",
       "      <td>1</td>\n",
       "      <td>C412403</td>\n",
       "      <td>8cd49b13-f45a-4b47-a2bd-173ffa932c2f</td>\n",
       "      <td>3a83ddb66e2ae73798bdf1d705dc0932</td>\n",
       "      <td>Eva</td>\n",
       "      <td>AL</td>\n",
       "      <td>Morgan</td>\n",
       "      <td>35621</td>\n",
       "      <td>34.34960</td>\n",
       "      <td>-86.72508</td>\n",
       "      <td>...</td>\n",
       "      <td>3726.702860</td>\n",
       "      <td>17939.403420</td>\n",
       "      <td>3</td>\n",
       "      <td>3</td>\n",
       "      <td>2</td>\n",
       "      <td>2</td>\n",
       "      <td>4</td>\n",
       "      <td>3</td>\n",
       "      <td>3</td>\n",
       "      <td>4</td>\n",
       "    </tr>\n",
       "    <tr>\n",
       "      <th>1</th>\n",
       "      <td>2</td>\n",
       "      <td>Z919181</td>\n",
       "      <td>d2450b70-0337-4406-bdbb-bc1037f1734c</td>\n",
       "      <td>176354c5eef714957d486009feabf195</td>\n",
       "      <td>Marianna</td>\n",
       "      <td>FL</td>\n",
       "      <td>Jackson</td>\n",
       "      <td>32446</td>\n",
       "      <td>30.84513</td>\n",
       "      <td>-85.22907</td>\n",
       "      <td>...</td>\n",
       "      <td>4193.190458</td>\n",
       "      <td>17612.998120</td>\n",
       "      <td>3</td>\n",
       "      <td>4</td>\n",
       "      <td>3</td>\n",
       "      <td>4</td>\n",
       "      <td>4</td>\n",
       "      <td>4</td>\n",
       "      <td>3</td>\n",
       "      <td>3</td>\n",
       "    </tr>\n",
       "    <tr>\n",
       "      <th>2</th>\n",
       "      <td>3</td>\n",
       "      <td>F995323</td>\n",
       "      <td>a2057123-abf5-4a2c-abad-8ffe33512562</td>\n",
       "      <td>e19a0fa00aeda885b8a436757e889bc9</td>\n",
       "      <td>Sioux Falls</td>\n",
       "      <td>SD</td>\n",
       "      <td>Minnehaha</td>\n",
       "      <td>57110</td>\n",
       "      <td>43.54321</td>\n",
       "      <td>-96.63772</td>\n",
       "      <td>...</td>\n",
       "      <td>2434.234222</td>\n",
       "      <td>17505.192460</td>\n",
       "      <td>2</td>\n",
       "      <td>4</td>\n",
       "      <td>4</td>\n",
       "      <td>4</td>\n",
       "      <td>3</td>\n",
       "      <td>4</td>\n",
       "      <td>3</td>\n",
       "      <td>3</td>\n",
       "    </tr>\n",
       "    <tr>\n",
       "      <th>3</th>\n",
       "      <td>4</td>\n",
       "      <td>A879973</td>\n",
       "      <td>1dec528d-eb34-4079-adce-0d7a40e82205</td>\n",
       "      <td>cd17d7b6d152cb6f23957346d11c3f07</td>\n",
       "      <td>New Richland</td>\n",
       "      <td>MN</td>\n",
       "      <td>Waseca</td>\n",
       "      <td>56072</td>\n",
       "      <td>43.89744</td>\n",
       "      <td>-93.51479</td>\n",
       "      <td>...</td>\n",
       "      <td>2127.830423</td>\n",
       "      <td>12993.437350</td>\n",
       "      <td>3</td>\n",
       "      <td>5</td>\n",
       "      <td>5</td>\n",
       "      <td>3</td>\n",
       "      <td>4</td>\n",
       "      <td>5</td>\n",
       "      <td>5</td>\n",
       "      <td>5</td>\n",
       "    </tr>\n",
       "    <tr>\n",
       "      <th>4</th>\n",
       "      <td>5</td>\n",
       "      <td>C544523</td>\n",
       "      <td>5885f56b-d6da-43a3-8760-83583af94266</td>\n",
       "      <td>d2f0425877b10ed6bb381f3e2579424a</td>\n",
       "      <td>West Point</td>\n",
       "      <td>VA</td>\n",
       "      <td>King William</td>\n",
       "      <td>23181</td>\n",
       "      <td>37.59894</td>\n",
       "      <td>-76.88958</td>\n",
       "      <td>...</td>\n",
       "      <td>2113.073274</td>\n",
       "      <td>3716.525786</td>\n",
       "      <td>2</td>\n",
       "      <td>1</td>\n",
       "      <td>3</td>\n",
       "      <td>3</td>\n",
       "      <td>5</td>\n",
       "      <td>3</td>\n",
       "      <td>4</td>\n",
       "      <td>3</td>\n",
       "    </tr>\n",
       "  </tbody>\n",
       "</table>\n",
       "<p>5 rows × 50 columns</p>\n",
       "</div>"
      ],
      "text/plain": [
       "   CaseOrder Customer_id                           Interaction  \\\n",
       "0          1     C412403  8cd49b13-f45a-4b47-a2bd-173ffa932c2f   \n",
       "1          2     Z919181  d2450b70-0337-4406-bdbb-bc1037f1734c   \n",
       "2          3     F995323  a2057123-abf5-4a2c-abad-8ffe33512562   \n",
       "3          4     A879973  1dec528d-eb34-4079-adce-0d7a40e82205   \n",
       "4          5     C544523  5885f56b-d6da-43a3-8760-83583af94266   \n",
       "\n",
       "                                UID          City State        County    Zip  \\\n",
       "0  3a83ddb66e2ae73798bdf1d705dc0932           Eva    AL        Morgan  35621   \n",
       "1  176354c5eef714957d486009feabf195      Marianna    FL       Jackson  32446   \n",
       "2  e19a0fa00aeda885b8a436757e889bc9   Sioux Falls    SD     Minnehaha  57110   \n",
       "3  cd17d7b6d152cb6f23957346d11c3f07  New Richland    MN        Waseca  56072   \n",
       "4  d2f0425877b10ed6bb381f3e2579424a    West Point    VA  King William  23181   \n",
       "\n",
       "        Lat       Lng  ...   TotalCharge Additional_charges Item1 Item2  \\\n",
       "0  34.34960 -86.72508  ...   3726.702860       17939.403420     3     3   \n",
       "1  30.84513 -85.22907  ...   4193.190458       17612.998120     3     4   \n",
       "2  43.54321 -96.63772  ...   2434.234222       17505.192460     2     4   \n",
       "3  43.89744 -93.51479  ...   2127.830423       12993.437350     3     5   \n",
       "4  37.59894 -76.88958  ...   2113.073274        3716.525786     2     1   \n",
       "\n",
       "   Item3  Item4  Item5 Item6 Item7 Item8  \n",
       "0      2      2      4     3     3     4  \n",
       "1      3      4      4     4     3     3  \n",
       "2      4      4      3     4     3     3  \n",
       "3      5      3      4     5     5     5  \n",
       "4      3      3      5     3     4     3  \n",
       "\n",
       "[5 rows x 50 columns]"
      ]
     },
     "execution_count": 2,
     "metadata": {},
     "output_type": "execute_result"
    }
   ],
   "source": [
    "import numpy as np\n",
    "import pandas as pd\n",
    "import matplotlib.pyplot as plt\n",
    "import seaborn as sb\n",
    "%matplotlib inline\n",
    "\n",
    "df = pd.read_csv('medical_clean.csv')\n",
    "df.head()"
   ]
  },
  {
   "cell_type": "code",
   "execution_count": 3,
   "metadata": {},
   "outputs": [
    {
     "data": {
      "text/plain": [
       "No     6331\n",
       "Yes    3669\n",
       "Name: ReAdmis, dtype: int64"
      ]
     },
     "execution_count": 3,
     "metadata": {},
     "output_type": "execute_result"
    }
   ],
   "source": [
    "df.ReAdmis.value_counts()"
   ]
  },
  {
   "cell_type": "code",
   "execution_count": 4,
   "metadata": {},
   "outputs": [
    {
     "data": {
      "text/html": [
       "<div>\n",
       "<style scoped>\n",
       "    .dataframe tbody tr th:only-of-type {\n",
       "        vertical-align: middle;\n",
       "    }\n",
       "\n",
       "    .dataframe tbody tr th {\n",
       "        vertical-align: top;\n",
       "    }\n",
       "\n",
       "    .dataframe thead th {\n",
       "        text-align: right;\n",
       "    }\n",
       "</style>\n",
       "<table border=\"1\" class=\"dataframe\">\n",
       "  <thead>\n",
       "    <tr style=\"text-align: right;\">\n",
       "      <th></th>\n",
       "      <th>ReAdmis</th>\n",
       "      <th>Doc_visits</th>\n",
       "      <th>Income</th>\n",
       "      <th>Gender</th>\n",
       "      <th>Area</th>\n",
       "      <th>Age</th>\n",
       "      <th>Additional_charges</th>\n",
       "      <th>TotalCharge</th>\n",
       "      <th>Initial_days</th>\n",
       "    </tr>\n",
       "  </thead>\n",
       "  <tbody>\n",
       "    <tr>\n",
       "      <th>0</th>\n",
       "      <td>No</td>\n",
       "      <td>6</td>\n",
       "      <td>86575.93</td>\n",
       "      <td>Male</td>\n",
       "      <td>Suburban</td>\n",
       "      <td>53</td>\n",
       "      <td>17939.403420</td>\n",
       "      <td>3726.702860</td>\n",
       "      <td>10.585770</td>\n",
       "    </tr>\n",
       "    <tr>\n",
       "      <th>1</th>\n",
       "      <td>No</td>\n",
       "      <td>4</td>\n",
       "      <td>46805.99</td>\n",
       "      <td>Female</td>\n",
       "      <td>Urban</td>\n",
       "      <td>51</td>\n",
       "      <td>17612.998120</td>\n",
       "      <td>4193.190458</td>\n",
       "      <td>15.129562</td>\n",
       "    </tr>\n",
       "    <tr>\n",
       "      <th>2</th>\n",
       "      <td>No</td>\n",
       "      <td>4</td>\n",
       "      <td>14370.14</td>\n",
       "      <td>Female</td>\n",
       "      <td>Suburban</td>\n",
       "      <td>53</td>\n",
       "      <td>17505.192460</td>\n",
       "      <td>2434.234222</td>\n",
       "      <td>4.772177</td>\n",
       "    </tr>\n",
       "    <tr>\n",
       "      <th>3</th>\n",
       "      <td>No</td>\n",
       "      <td>4</td>\n",
       "      <td>39741.49</td>\n",
       "      <td>Male</td>\n",
       "      <td>Suburban</td>\n",
       "      <td>78</td>\n",
       "      <td>12993.437350</td>\n",
       "      <td>2127.830423</td>\n",
       "      <td>1.714879</td>\n",
       "    </tr>\n",
       "    <tr>\n",
       "      <th>4</th>\n",
       "      <td>No</td>\n",
       "      <td>5</td>\n",
       "      <td>1209.56</td>\n",
       "      <td>Female</td>\n",
       "      <td>Rural</td>\n",
       "      <td>22</td>\n",
       "      <td>3716.525786</td>\n",
       "      <td>2113.073274</td>\n",
       "      <td>1.254807</td>\n",
       "    </tr>\n",
       "  </tbody>\n",
       "</table>\n",
       "</div>"
      ],
      "text/plain": [
       "  ReAdmis  Doc_visits    Income  Gender      Area  Age  Additional_charges  \\\n",
       "0      No           6  86575.93    Male  Suburban   53        17939.403420   \n",
       "1      No           4  46805.99  Female     Urban   51        17612.998120   \n",
       "2      No           4  14370.14  Female  Suburban   53        17505.192460   \n",
       "3      No           4  39741.49    Male  Suburban   78        12993.437350   \n",
       "4      No           5   1209.56  Female     Rural   22         3716.525786   \n",
       "\n",
       "   TotalCharge  Initial_days  \n",
       "0  3726.702860     10.585770  \n",
       "1  4193.190458     15.129562  \n",
       "2  2434.234222      4.772177  \n",
       "3  2127.830423      1.714879  \n",
       "4  2113.073274      1.254807  "
      ]
     },
     "execution_count": 4,
     "metadata": {},
     "output_type": "execute_result"
    }
   ],
   "source": [
    "days = df.loc[:,['ReAdmis', 'Doc_visits','Income','Gender','Area','Age','Additional_charges','TotalCharge','Initial_days']]\n",
    "days.head()"
   ]
  },
  {
   "cell_type": "code",
   "execution_count": 5,
   "metadata": {},
   "outputs": [],
   "source": [
    "df.to_csv('d:\\\\days.csv')"
   ]
  },
  {
   "cell_type": "code",
   "execution_count": 6,
   "metadata": {},
   "outputs": [
    {
     "name": "stdout",
     "output_type": "stream",
     "text": [
      "<class 'pandas.core.frame.DataFrame'>\n",
      "RangeIndex: 10000 entries, 0 to 9999\n",
      "Data columns (total 9 columns):\n",
      "ReAdmis               10000 non-null object\n",
      "Doc_visits            10000 non-null int64\n",
      "Income                10000 non-null float64\n",
      "Gender                10000 non-null object\n",
      "Area                  10000 non-null object\n",
      "Age                   10000 non-null int64\n",
      "Additional_charges    10000 non-null float64\n",
      "TotalCharge           10000 non-null float64\n",
      "Initial_days          10000 non-null float64\n",
      "dtypes: float64(4), int64(2), object(3)\n",
      "memory usage: 703.2+ KB\n"
     ]
    }
   ],
   "source": [
    "days.info()"
   ]
  },
  {
   "cell_type": "code",
   "execution_count": 7,
   "metadata": {},
   "outputs": [
    {
     "data": {
      "text/html": [
       "<div>\n",
       "<style scoped>\n",
       "    .dataframe tbody tr th:only-of-type {\n",
       "        vertical-align: middle;\n",
       "    }\n",
       "\n",
       "    .dataframe tbody tr th {\n",
       "        vertical-align: top;\n",
       "    }\n",
       "\n",
       "    .dataframe thead th {\n",
       "        text-align: right;\n",
       "    }\n",
       "</style>\n",
       "<table border=\"1\" class=\"dataframe\">\n",
       "  <thead>\n",
       "    <tr style=\"text-align: right;\">\n",
       "      <th></th>\n",
       "      <th>Doc_visits</th>\n",
       "      <th>Income</th>\n",
       "      <th>Age</th>\n",
       "      <th>Additional_charges</th>\n",
       "      <th>TotalCharge</th>\n",
       "      <th>Initial_days</th>\n",
       "    </tr>\n",
       "  </thead>\n",
       "  <tbody>\n",
       "    <tr>\n",
       "      <th>count</th>\n",
       "      <td>10000.000000</td>\n",
       "      <td>10000.000000</td>\n",
       "      <td>10000.000000</td>\n",
       "      <td>10000.000000</td>\n",
       "      <td>10000.000000</td>\n",
       "      <td>10000.000000</td>\n",
       "    </tr>\n",
       "    <tr>\n",
       "      <th>mean</th>\n",
       "      <td>5.012200</td>\n",
       "      <td>40490.495160</td>\n",
       "      <td>53.511700</td>\n",
       "      <td>12934.528587</td>\n",
       "      <td>5312.172769</td>\n",
       "      <td>34.455299</td>\n",
       "    </tr>\n",
       "    <tr>\n",
       "      <th>std</th>\n",
       "      <td>1.045734</td>\n",
       "      <td>28521.153293</td>\n",
       "      <td>20.638538</td>\n",
       "      <td>6542.601544</td>\n",
       "      <td>2180.393838</td>\n",
       "      <td>26.309341</td>\n",
       "    </tr>\n",
       "    <tr>\n",
       "      <th>min</th>\n",
       "      <td>1.000000</td>\n",
       "      <td>154.080000</td>\n",
       "      <td>18.000000</td>\n",
       "      <td>3125.703000</td>\n",
       "      <td>1938.312067</td>\n",
       "      <td>1.001981</td>\n",
       "    </tr>\n",
       "    <tr>\n",
       "      <th>25%</th>\n",
       "      <td>4.000000</td>\n",
       "      <td>19598.775000</td>\n",
       "      <td>36.000000</td>\n",
       "      <td>7986.487755</td>\n",
       "      <td>3179.374015</td>\n",
       "      <td>7.896215</td>\n",
       "    </tr>\n",
       "    <tr>\n",
       "      <th>50%</th>\n",
       "      <td>5.000000</td>\n",
       "      <td>33768.420000</td>\n",
       "      <td>53.000000</td>\n",
       "      <td>11573.977735</td>\n",
       "      <td>5213.952000</td>\n",
       "      <td>35.836244</td>\n",
       "    </tr>\n",
       "    <tr>\n",
       "      <th>75%</th>\n",
       "      <td>6.000000</td>\n",
       "      <td>54296.402500</td>\n",
       "      <td>71.000000</td>\n",
       "      <td>15626.490000</td>\n",
       "      <td>7459.699750</td>\n",
       "      <td>61.161020</td>\n",
       "    </tr>\n",
       "    <tr>\n",
       "      <th>max</th>\n",
       "      <td>9.000000</td>\n",
       "      <td>207249.100000</td>\n",
       "      <td>89.000000</td>\n",
       "      <td>30566.070000</td>\n",
       "      <td>9180.728000</td>\n",
       "      <td>71.981490</td>\n",
       "    </tr>\n",
       "  </tbody>\n",
       "</table>\n",
       "</div>"
      ],
      "text/plain": [
       "         Doc_visits         Income           Age  Additional_charges  \\\n",
       "count  10000.000000   10000.000000  10000.000000        10000.000000   \n",
       "mean       5.012200   40490.495160     53.511700        12934.528587   \n",
       "std        1.045734   28521.153293     20.638538         6542.601544   \n",
       "min        1.000000     154.080000     18.000000         3125.703000   \n",
       "25%        4.000000   19598.775000     36.000000         7986.487755   \n",
       "50%        5.000000   33768.420000     53.000000        11573.977735   \n",
       "75%        6.000000   54296.402500     71.000000        15626.490000   \n",
       "max        9.000000  207249.100000     89.000000        30566.070000   \n",
       "\n",
       "        TotalCharge  Initial_days  \n",
       "count  10000.000000  10000.000000  \n",
       "mean    5312.172769     34.455299  \n",
       "std     2180.393838     26.309341  \n",
       "min     1938.312067      1.001981  \n",
       "25%     3179.374015      7.896215  \n",
       "50%     5213.952000     35.836244  \n",
       "75%     7459.699750     61.161020  \n",
       "max     9180.728000     71.981490  "
      ]
     },
     "execution_count": 7,
     "metadata": {},
     "output_type": "execute_result"
    }
   ],
   "source": [
    "days.describe()"
   ]
  },
  {
   "cell_type": "code",
   "execution_count": 9,
   "metadata": {},
   "outputs": [
    {
     "data": {
      "image/png": "[encoded data removed]",
      "text/plain": [
       "<Figure size 432x288 with 1 Axes>"
      ]
     },
     "metadata": {
      "needs_background": "light"
     },
     "output_type": "display_data"
    }
   ],
   "source": [
    "plt.boxplot(df['Income'], boxprops=dict(color='red'))\n",
    "plt.title('Income Boxplot');"
   ]
  },
  {
   "cell_type": "code",
   "execution_count": 213,
   "metadata": {},
   "outputs": [
    {
     "data": {
      "image/png": "[encoded data removed]",
      "text/plain": [
       "<Figure size 432x288 with 1 Axes>"
      ]
     },
     "metadata": {
      "needs_background": "light"
     },
     "output_type": "display_data"
    }
   ],
   "source": [
    "sb.distplot(df3['Income'], hist=True, kde=True, \n",
    "             bins=int(180/5), color = 'darkblue', \n",
    "             hist_kws={'edgecolor':'black'},\n",
    "             kde_kws={'linewidth': 4} );"
   ]
  },
  {
   "cell_type": "code",
   "execution_count": 216,
   "metadata": {},
   "outputs": [
    {
     "data": {
      "image/png": "[encoded data removed]",
      "text/plain": [
       "<Figure size 432x288 with 1 Axes>"
      ]
     },
     "metadata": {
      "needs_background": "light"
     },
     "output_type": "display_data"
    }
   ],
   "source": [
    "sb.distplot(days.TotalCharge, hist=True, kde=True, color ='g');"
   ]
  },
  {
   "cell_type": "code",
   "execution_count": 171,
   "metadata": {},
   "outputs": [
    {
     "data": {
      "image/png": "[encoded data removed]",
      "text/plain": [
       "<Figure size 432x288 with 1 Axes>"
      ]
     },
     "metadata": {},
     "output_type": "display_data"
    }
   ],
   "source": [
    "plt.boxplot(df3['Additional_charges'], boxprops=dict(color='red'))\n",
    "plt.title('Income Boxplot');"
   ]
  },
  {
   "cell_type": "code",
   "execution_count": 251,
   "metadata": {},
   "outputs": [
    {
     "data": {
      "image/png": "[encoded data removed]",
      "text/plain": [
       "<Figure size 432x288 with 1 Axes>"
      ]
     },
     "metadata": {
      "needs_background": "light"
     },
     "output_type": "display_data"
    }
   ],
   "source": [
    "sb.distplot(days['Income'], hist=True, kde=True, \n",
    "             bins=int(180/5), color = 'darkblue', \n",
    "             hist_kws={'edgecolor':'black'},\n",
    "             kde_kws={'linewidth': 4});"
   ]
  },
  {
   "cell_type": "code",
   "execution_count": 173,
   "metadata": {},
   "outputs": [
    {
     "data": {
      "image/png": "[encoded data removed]",
      "text/plain": [
       "<Figure size 432x288 with 1 Axes>"
      ]
     },
     "metadata": {},
     "output_type": "display_data"
    }
   ],
   "source": [
    "plt.boxplot(df3['Initial_days'],notch=True);"
   ]
  },
  {
   "cell_type": "code",
   "execution_count": 10,
   "metadata": {},
   "outputs": [
    {
     "data": {
      "text/html": [
       "<div>\n",
       "<style scoped>\n",
       "    .dataframe tbody tr th:only-of-type {\n",
       "        vertical-align: middle;\n",
       "    }\n",
       "\n",
       "    .dataframe tbody tr th {\n",
       "        vertical-align: top;\n",
       "    }\n",
       "\n",
       "    .dataframe thead th {\n",
       "        text-align: right;\n",
       "    }\n",
       "</style>\n",
       "<table border=\"1\" class=\"dataframe\">\n",
       "  <thead>\n",
       "    <tr style=\"text-align: right;\">\n",
       "      <th></th>\n",
       "      <th>Doc_visits</th>\n",
       "      <th>Income</th>\n",
       "      <th>Age</th>\n",
       "      <th>Additional_charges</th>\n",
       "      <th>TotalCharge</th>\n",
       "      <th>Initial_days</th>\n",
       "      <th>Gender_Female</th>\n",
       "      <th>Gender_Male</th>\n",
       "      <th>Gender_Nonbinary</th>\n",
       "      <th>Area_Rural</th>\n",
       "      <th>Area_Suburban</th>\n",
       "      <th>Area_Urban</th>\n",
       "      <th>ReAdmis_No</th>\n",
       "      <th>ReAdmis_Yes</th>\n",
       "    </tr>\n",
       "  </thead>\n",
       "  <tbody>\n",
       "    <tr>\n",
       "      <th>0</th>\n",
       "      <td>6</td>\n",
       "      <td>86575.93</td>\n",
       "      <td>53</td>\n",
       "      <td>17939.403420</td>\n",
       "      <td>3726.702860</td>\n",
       "      <td>10.585770</td>\n",
       "      <td>0</td>\n",
       "      <td>1</td>\n",
       "      <td>0</td>\n",
       "      <td>0</td>\n",
       "      <td>1</td>\n",
       "      <td>0</td>\n",
       "      <td>1</td>\n",
       "      <td>0</td>\n",
       "    </tr>\n",
       "    <tr>\n",
       "      <th>1</th>\n",
       "      <td>4</td>\n",
       "      <td>46805.99</td>\n",
       "      <td>51</td>\n",
       "      <td>17612.998120</td>\n",
       "      <td>4193.190458</td>\n",
       "      <td>15.129562</td>\n",
       "      <td>1</td>\n",
       "      <td>0</td>\n",
       "      <td>0</td>\n",
       "      <td>0</td>\n",
       "      <td>0</td>\n",
       "      <td>1</td>\n",
       "      <td>1</td>\n",
       "      <td>0</td>\n",
       "    </tr>\n",
       "    <tr>\n",
       "      <th>2</th>\n",
       "      <td>4</td>\n",
       "      <td>14370.14</td>\n",
       "      <td>53</td>\n",
       "      <td>17505.192460</td>\n",
       "      <td>2434.234222</td>\n",
       "      <td>4.772177</td>\n",
       "      <td>1</td>\n",
       "      <td>0</td>\n",
       "      <td>0</td>\n",
       "      <td>0</td>\n",
       "      <td>1</td>\n",
       "      <td>0</td>\n",
       "      <td>1</td>\n",
       "      <td>0</td>\n",
       "    </tr>\n",
       "    <tr>\n",
       "      <th>3</th>\n",
       "      <td>4</td>\n",
       "      <td>39741.49</td>\n",
       "      <td>78</td>\n",
       "      <td>12993.437350</td>\n",
       "      <td>2127.830423</td>\n",
       "      <td>1.714879</td>\n",
       "      <td>0</td>\n",
       "      <td>1</td>\n",
       "      <td>0</td>\n",
       "      <td>0</td>\n",
       "      <td>1</td>\n",
       "      <td>0</td>\n",
       "      <td>1</td>\n",
       "      <td>0</td>\n",
       "    </tr>\n",
       "    <tr>\n",
       "      <th>4</th>\n",
       "      <td>5</td>\n",
       "      <td>1209.56</td>\n",
       "      <td>22</td>\n",
       "      <td>3716.525786</td>\n",
       "      <td>2113.073274</td>\n",
       "      <td>1.254807</td>\n",
       "      <td>1</td>\n",
       "      <td>0</td>\n",
       "      <td>0</td>\n",
       "      <td>1</td>\n",
       "      <td>0</td>\n",
       "      <td>0</td>\n",
       "      <td>1</td>\n",
       "      <td>0</td>\n",
       "    </tr>\n",
       "  </tbody>\n",
       "</table>\n",
       "</div>"
      ],
      "text/plain": [
       "   Doc_visits    Income  Age  Additional_charges  TotalCharge  Initial_days  \\\n",
       "0           6  86575.93   53        17939.403420  3726.702860     10.585770   \n",
       "1           4  46805.99   51        17612.998120  4193.190458     15.129562   \n",
       "2           4  14370.14   53        17505.192460  2434.234222      4.772177   \n",
       "3           4  39741.49   78        12993.437350  2127.830423      1.714879   \n",
       "4           5   1209.56   22         3716.525786  2113.073274      1.254807   \n",
       "\n",
       "   Gender_Female  Gender_Male  Gender_Nonbinary  Area_Rural  Area_Suburban  \\\n",
       "0              0            1                 0           0              1   \n",
       "1              1            0                 0           0              0   \n",
       "2              1            0                 0           0              1   \n",
       "3              0            1                 0           0              1   \n",
       "4              1            0                 0           1              0   \n",
       "\n",
       "   Area_Urban  ReAdmis_No  ReAdmis_Yes  \n",
       "0           0           1            0  \n",
       "1           1           1            0  \n",
       "2           0           1            0  \n",
       "3           0           1            0  \n",
       "4           0           1            0  "
      ]
     },
     "execution_count": 10,
     "metadata": {},
     "output_type": "execute_result"
    }
   ],
   "source": [
    "days = pd.get_dummies(days, columns=['Gender','Area','ReAdmis'])\n",
    "days.head()"
   ]
  },
  {
   "cell_type": "code",
   "execution_count": 11,
   "metadata": {
    "scrolled": true
   },
   "outputs": [
    {
     "data": {
      "text/html": [
       "<div>\n",
       "<style scoped>\n",
       "    .dataframe tbody tr th:only-of-type {\n",
       "        vertical-align: middle;\n",
       "    }\n",
       "\n",
       "    .dataframe tbody tr th {\n",
       "        vertical-align: top;\n",
       "    }\n",
       "\n",
       "    .dataframe thead th {\n",
       "        text-align: right;\n",
       "    }\n",
       "</style>\n",
       "<table border=\"1\" class=\"dataframe\">\n",
       "  <thead>\n",
       "    <tr style=\"text-align: right;\">\n",
       "      <th></th>\n",
       "      <th>Doc_visits</th>\n",
       "      <th>Income</th>\n",
       "      <th>Age</th>\n",
       "      <th>Additional_charges</th>\n",
       "      <th>TotalCharge</th>\n",
       "      <th>Gender_Female</th>\n",
       "      <th>Gender_Male</th>\n",
       "      <th>Gender_Nonbinary</th>\n",
       "      <th>Area_Rural</th>\n",
       "      <th>Area_Suburban</th>\n",
       "      <th>Area_Urban</th>\n",
       "      <th>ReAdmis_No</th>\n",
       "      <th>ReAdmis_Yes</th>\n",
       "    </tr>\n",
       "  </thead>\n",
       "  <tbody>\n",
       "    <tr>\n",
       "      <th>0</th>\n",
       "      <td>6</td>\n",
       "      <td>86575.93</td>\n",
       "      <td>53</td>\n",
       "      <td>17939.403420</td>\n",
       "      <td>3726.702860</td>\n",
       "      <td>0</td>\n",
       "      <td>1</td>\n",
       "      <td>0</td>\n",
       "      <td>0</td>\n",
       "      <td>1</td>\n",
       "      <td>0</td>\n",
       "      <td>1</td>\n",
       "      <td>0</td>\n",
       "    </tr>\n",
       "    <tr>\n",
       "      <th>1</th>\n",
       "      <td>4</td>\n",
       "      <td>46805.99</td>\n",
       "      <td>51</td>\n",
       "      <td>17612.998120</td>\n",
       "      <td>4193.190458</td>\n",
       "      <td>1</td>\n",
       "      <td>0</td>\n",
       "      <td>0</td>\n",
       "      <td>0</td>\n",
       "      <td>0</td>\n",
       "      <td>1</td>\n",
       "      <td>1</td>\n",
       "      <td>0</td>\n",
       "    </tr>\n",
       "    <tr>\n",
       "      <th>2</th>\n",
       "      <td>4</td>\n",
       "      <td>14370.14</td>\n",
       "      <td>53</td>\n",
       "      <td>17505.192460</td>\n",
       "      <td>2434.234222</td>\n",
       "      <td>1</td>\n",
       "      <td>0</td>\n",
       "      <td>0</td>\n",
       "      <td>0</td>\n",
       "      <td>1</td>\n",
       "      <td>0</td>\n",
       "      <td>1</td>\n",
       "      <td>0</td>\n",
       "    </tr>\n",
       "    <tr>\n",
       "      <th>3</th>\n",
       "      <td>4</td>\n",
       "      <td>39741.49</td>\n",
       "      <td>78</td>\n",
       "      <td>12993.437350</td>\n",
       "      <td>2127.830423</td>\n",
       "      <td>0</td>\n",
       "      <td>1</td>\n",
       "      <td>0</td>\n",
       "      <td>0</td>\n",
       "      <td>1</td>\n",
       "      <td>0</td>\n",
       "      <td>1</td>\n",
       "      <td>0</td>\n",
       "    </tr>\n",
       "    <tr>\n",
       "      <th>4</th>\n",
       "      <td>5</td>\n",
       "      <td>1209.56</td>\n",
       "      <td>22</td>\n",
       "      <td>3716.525786</td>\n",
       "      <td>2113.073274</td>\n",
       "      <td>1</td>\n",
       "      <td>0</td>\n",
       "      <td>0</td>\n",
       "      <td>1</td>\n",
       "      <td>0</td>\n",
       "      <td>0</td>\n",
       "      <td>1</td>\n",
       "      <td>0</td>\n",
       "    </tr>\n",
       "  </tbody>\n",
       "</table>\n",
       "</div>"
      ],
      "text/plain": [
       "   Doc_visits    Income  Age  Additional_charges  TotalCharge  Gender_Female  \\\n",
       "0           6  86575.93   53        17939.403420  3726.702860              0   \n",
       "1           4  46805.99   51        17612.998120  4193.190458              1   \n",
       "2           4  14370.14   53        17505.192460  2434.234222              1   \n",
       "3           4  39741.49   78        12993.437350  2127.830423              0   \n",
       "4           5   1209.56   22         3716.525786  2113.073274              1   \n",
       "\n",
       "   Gender_Male  Gender_Nonbinary  Area_Rural  Area_Suburban  Area_Urban  \\\n",
       "0            1                 0           0              1           0   \n",
       "1            0                 0           0              0           1   \n",
       "2            0                 0           0              1           0   \n",
       "3            1                 0           0              1           0   \n",
       "4            0                 0           1              0           0   \n",
       "\n",
       "   ReAdmis_No  ReAdmis_Yes  \n",
       "0           1            0  \n",
       "1           1            0  \n",
       "2           1            0  \n",
       "3           1            0  \n",
       "4           1            0  "
      ]
     },
     "execution_count": 11,
     "metadata": {},
     "output_type": "execute_result"
    }
   ],
   "source": [
    "X = days.drop('Initial_days', axis = 'columns')\n",
    "X.head()"
   ]
  },
  {
   "cell_type": "code",
   "execution_count": 12,
   "metadata": {},
   "outputs": [
    {
     "data": {
      "text/plain": [
       "0    10.585770\n",
       "1    15.129562\n",
       "2     4.772177\n",
       "3     1.714879\n",
       "4     1.254807\n",
       "Name: Initial_days, dtype: float64"
      ]
     },
     "execution_count": 12,
     "metadata": {},
     "output_type": "execute_result"
    }
   ],
   "source": [
    "y = days.Initial_days\n",
    "y.head()"
   ]
  },
  {
   "cell_type": "code",
   "execution_count": 13,
   "metadata": {},
   "outputs": [
    {
     "data": {
      "text/plain": [
       "LinearRegression(copy_X=True, fit_intercept=True, n_jobs=None,\n",
       "         normalize=False)"
      ]
     },
     "execution_count": 13,
     "metadata": {},
     "output_type": "execute_result"
    }
   ],
   "source": [
    "from sklearn.linear_model import LinearRegression \n",
    "ml2 = LinearRegression()\n",
    "ml2.fit(X,y)"
   ]
  },
  {
   "cell_type": "code",
   "execution_count": 14,
   "metadata": {},
   "outputs": [
    {
     "name": "stdout",
     "output_type": "stream",
     "text": [
      "Intercept of full model =  -25.0075930208548\n"
     ]
    }
   ],
   "source": [
    "print ('Intercept of full model = ',ml2.intercept_ )"
   ]
  },
  {
   "cell_type": "code",
   "execution_count": 15,
   "metadata": {},
   "outputs": [],
   "source": [
    "intercept = ml2.intercept_"
   ]
  },
  {
   "cell_type": "code",
   "execution_count": 16,
   "metadata": {},
   "outputs": [
    {
     "data": {
      "text/plain": [
       "array([-4.76350765e-02,  1.52633856e-06,  4.36092536e-02, -1.94433048e-04,\n",
       "        1.13280693e-02,  2.06544130e-02,  1.36537874e-01, -1.57192287e-01,\n",
       "        2.99104016e-02,  1.06428894e-02, -4.05532909e-02, -1.60723370e+00,\n",
       "        1.60723370e+00])"
      ]
     },
     "execution_count": 16,
     "metadata": {},
     "output_type": "execute_result"
    }
   ],
   "source": [
    "coef = ml2.coef_\n",
    "coef"
   ]
  },
  {
   "cell_type": "code",
   "execution_count": 18,
   "metadata": {},
   "outputs": [
    {
     "ename": "NameError",
     "evalue": "name 'y_pred' is not defined",
     "output_type": "error",
     "traceback": [
      "\u001b[1;31m---------------------------------------------------------------------------\u001b[0m",
      "\u001b[1;31mNameError\u001b[0m                                 Traceback (most recent call last)",
      "\u001b[1;32m<ipython-input-18-4202e35ffc40>\u001b[0m in \u001b[0;36m<module>\u001b[1;34m\u001b[0m\n\u001b[1;32m----> 1\u001b[1;33m \u001b[0mresiduals\u001b[0m \u001b[1;33m=\u001b[0m \u001b[0my\u001b[0m \u001b[1;33m-\u001b[0m \u001b[0my_pred\u001b[0m\u001b[1;33m\u001b[0m\u001b[1;33m\u001b[0m\u001b[0m\n\u001b[0m\u001b[0;32m      2\u001b[0m \u001b[1;32mimport\u001b[0m \u001b[0mscipy\u001b[0m\u001b[1;33m.\u001b[0m\u001b[0mstats\u001b[0m \u001b[1;32mas\u001b[0m \u001b[0mstats\u001b[0m\u001b[1;33m\u001b[0m\u001b[1;33m\u001b[0m\u001b[0m\n\u001b[0;32m      3\u001b[0m \u001b[0mfig\u001b[0m\u001b[1;33m,\u001b[0m \u001b[0max\u001b[0m\u001b[1;33m=\u001b[0m\u001b[0mplt\u001b[0m\u001b[1;33m.\u001b[0m\u001b[0msubplots\u001b[0m\u001b[1;33m(\u001b[0m\u001b[0mfigsize\u001b[0m\u001b[1;33m=\u001b[0m\u001b[1;33m(\u001b[0m\u001b[1;36m10\u001b[0m\u001b[1;33m,\u001b[0m\u001b[1;36m6\u001b[0m\u001b[1;33m)\u001b[0m\u001b[1;33m)\u001b[0m\u001b[1;33m\u001b[0m\u001b[1;33m\u001b[0m\u001b[0m\n\u001b[0;32m      4\u001b[0m \u001b[0mstats\u001b[0m\u001b[1;33m.\u001b[0m\u001b[0mprobplot\u001b[0m\u001b[1;33m(\u001b[0m\u001b[0mresiduals\u001b[0m\u001b[1;33m,\u001b[0m \u001b[0mdist\u001b[0m\u001b[1;33m=\u001b[0m\u001b[1;34m'norm'\u001b[0m\u001b[1;33m,\u001b[0m \u001b[0mplot\u001b[0m\u001b[1;33m=\u001b[0m\u001b[0mplt\u001b[0m\u001b[1;33m)\u001b[0m\u001b[1;33m\u001b[0m\u001b[1;33m\u001b[0m\u001b[0m\n\u001b[0;32m      5\u001b[0m \u001b[0mplt\u001b[0m\u001b[1;33m.\u001b[0m\u001b[0mshow\u001b[0m\u001b[1;33m;\u001b[0m\u001b[1;33m\u001b[0m\u001b[1;33m\u001b[0m\u001b[0m\n",
      "\u001b[1;31mNameError\u001b[0m: name 'y_pred' is not defined"
     ]
    }
   ],
   "source": [
    "residuals = y - y_pred\n",
    "import scipy.stats as stats\n",
    "fig, ax=plt.subplots(figsize=(10,6))\n",
    "stats.probplot(residuals, dist='norm', plot=plt)\n",
    "plt.show;"
   ]
  },
  {
   "cell_type": "code",
   "execution_count": 278,
   "metadata": {},
   "outputs": [
    {
     "name": "stdout",
     "output_type": "stream",
     "text": [
      "The intercept for our model is -25.01\n",
      "____________________________________________________________________________________________________\n",
      "The coefficient for Doc_visits is -0.048\n",
      "The coefficient for Income is 1.5e-06\n",
      "The coefficient for Age is 0.044\n",
      "The coefficient for Additional_charges is -0.00019\n",
      "The coefficient for TotalCharge is 0.011\n",
      "The coefficient for Gender_Female is 0.021\n",
      "The coefficient for Gender_Male is 0.14\n",
      "The coefficient for Gender_Nonbinary is -0.16\n",
      "The coefficient for Area_Rural is 0.03\n",
      "The coefficient for Area_Suburban is 0.011\n",
      "The coefficient for Area_Urban is -0.041\n",
      "The coefficient for ReAdmis_No is -1.6\n",
      "The coefficient for ReAdmis_Yes is 1.6\n"
     ]
    }
   ],
   "source": [
    "print(\"The intercept for our model is {:.4}\".format(intercept))\n",
    "print ('_'*100)\n",
    "\n",
    "for cf in zip(X.columns,coef):\n",
    "        print(\"The coefficient for {} is {:.2}\".format(cf[0], cf[1]))"
   ]
  },
  {
   "cell_type": "markdown",
   "metadata": {},
   "source": [
    "### Evaluation the model"
   ]
  },
  {
   "cell_type": "code",
   "execution_count": 279,
   "metadata": {},
   "outputs": [
    {
     "data": {
      "text/plain": [
       "array([14.41831339, 19.5464508 , -0.26925967, -1.61814876, -2.62676257])"
      ]
     },
     "execution_count": 279,
     "metadata": {},
     "output_type": "execute_result"
    }
   ],
   "source": [
    "y_pred = ml2.predict(X)\n",
    "y_pred[:5]"
   ]
  },
  {
   "cell_type": "code",
   "execution_count": 280,
   "metadata": {},
   "outputs": [
    {
     "name": "stdout",
     "output_type": "stream",
     "text": [
      "R2 =  97.77 %\n"
     ]
    }
   ],
   "source": [
    "from sklearn.metrics import r2_score\n",
    "score = r2_score(y, y_pred)\n",
    "print('R2 = ', round(score*100,2),'%')"
   ]
  },
  {
   "cell_type": "code",
   "execution_count": null,
   "metadata": {},
   "outputs": [],
   "source": [
    "from statsmodels.formula.api import ols"
   ]
  },
  {
   "cell_type": "code",
   "execution_count": 17,
   "metadata": {},
   "outputs": [
    {
     "name": "stdout",
     "output_type": "stream",
     "text": [
      "                            OLS Regression Results                            \n",
      "==============================================================================\n",
      "Dep. Variable:           Initial_days   R-squared:                       0.978\n",
      "Model:                            OLS   Adj. R-squared:                  0.978\n",
      "Method:                 Least Squares   F-statistic:                 4.370e+04\n",
      "Date:                Thu, 16 Sep 2021   Prob (F-statistic):               0.00\n",
      "Time:                        08:25:01   Log-Likelihood:                -27883.\n",
      "No. Observations:               10000   AIC:                         5.579e+04\n",
      "Df Residuals:                    9989   BIC:                         5.587e+04\n",
      "Df Model:                          10                                         \n",
      "Covariance Type:            nonrobust                                         \n",
      "======================================================================================\n",
      "                         coef    std err          t      P>|t|      [0.025      0.975]\n",
      "--------------------------------------------------------------------------------------\n",
      "const                -11.5420      0.143    -80.441      0.000     -11.823     -11.261\n",
      "Doc_visits            -0.0476      0.038     -1.265      0.206      -0.121       0.026\n",
      "Income              1.526e-06   1.38e-06      1.106      0.269   -1.18e-06    4.23e-06\n",
      "Age                    0.0436      0.003     15.932      0.000       0.038       0.049\n",
      "Additional_charges    -0.0002   8.64e-06    -22.511      0.000      -0.000      -0.000\n",
      "TotalCharge            0.0113   3.37e-05    336.555      0.000       0.011       0.011\n",
      "Gender_Female         -3.8267      0.099    -38.796      0.000      -4.020      -3.633\n",
      "Gender_Male           -3.7108      0.098    -37.682      0.000      -3.904      -3.518\n",
      "Gender_Nonbinary      -4.0045      0.200    -20.043      0.000      -4.396      -3.613\n",
      "Area_Rural            -3.8174      0.073    -52.402      0.000      -3.960      -3.675\n",
      "Area_Suburban         -3.8367      0.074    -51.875      0.000      -3.982      -3.692\n",
      "Area_Urban            -3.8879      0.073    -52.991      0.000      -4.032      -3.744\n",
      "ReAdmis_No            -7.3782      0.070   -105.667      0.000      -7.515      -7.241\n",
      "ReAdmis_Yes           -4.1637      0.130    -31.933      0.000      -4.419      -3.908\n",
      "==============================================================================\n",
      "Omnibus:                      619.836   Durbin-Watson:                   1.970\n",
      "Prob(Omnibus):                  0.000   Jarque-Bera (JB):              239.801\n",
      "Skew:                          -0.107   Prob(JB):                     8.47e-53\n",
      "Kurtosis:                       2.272   Cond. No.                     4.74e+20\n",
      "==============================================================================\n",
      "\n",
      "Warnings:\n",
      "[1] Standard Errors assume that the covariance matrix of the errors is correctly specified.\n",
      "[2] The smallest eigenvalue is 1.15e-28. This might indicate that there are\n",
      "strong multicollinearity problems or that the design matrix is singular.\n"
     ]
    }
   ],
   "source": [
    "import statsmodels.api as sm\n",
    "X_ = sm.add_constant(X)\n",
    "model_ols = sm.OLS(y, X_).fit()\n",
    "print(model_ols.summary())"
   ]
  },
  {
   "cell_type": "code",
   "execution_count": 19,
   "metadata": {},
   "outputs": [
    {
     "data": {
      "image/png": "[encoded data removed]",
      "text/plain": [
       "<Figure size 720x432 with 1 Axes>"
      ]
     },
     "metadata": {
      "needs_background": "light"
     },
     "output_type": "display_data"
    }
   ],
   "source": [
    "results = model_ols.predict()\n",
    "residuals = y - results\n",
    "import scipy.stats as stats\n",
    "fig, ax=plt.subplots(figsize=(10,6))\n",
    "stats.probplot(residuals, dist='norm', plot=plt)\n",
    "plt.show;"
   ]
  },
  {
   "cell_type": "code",
   "execution_count": 20,
   "metadata": {},
   "outputs": [
    {
     "data": {
      "text/html": [
       "<div>\n",
       "<style scoped>\n",
       "    .dataframe tbody tr th:only-of-type {\n",
       "        vertical-align: middle;\n",
       "    }\n",
       "\n",
       "    .dataframe tbody tr th {\n",
       "        vertical-align: top;\n",
       "    }\n",
       "\n",
       "    .dataframe thead th {\n",
       "        text-align: right;\n",
       "    }\n",
       "</style>\n",
       "<table border=\"1\" class=\"dataframe\">\n",
       "  <thead>\n",
       "    <tr style=\"text-align: right;\">\n",
       "      <th></th>\n",
       "      <th>ReAdmis_No</th>\n",
       "      <th>ReAdmis_Yes</th>\n",
       "      <th>Gender_Female</th>\n",
       "      <th>Gender_Male</th>\n",
       "      <th>Gender_Nonbinary</th>\n",
       "      <th>Area_Rural</th>\n",
       "      <th>Area_Suburban</th>\n",
       "      <th>Area_Urban</th>\n",
       "      <th>Age</th>\n",
       "      <th>Additional_charges</th>\n",
       "      <th>TotalCharge</th>\n",
       "    </tr>\n",
       "  </thead>\n",
       "  <tbody>\n",
       "    <tr>\n",
       "      <th>0</th>\n",
       "      <td>1</td>\n",
       "      <td>0</td>\n",
       "      <td>0</td>\n",
       "      <td>1</td>\n",
       "      <td>0</td>\n",
       "      <td>0</td>\n",
       "      <td>1</td>\n",
       "      <td>0</td>\n",
       "      <td>53</td>\n",
       "      <td>17939.403420</td>\n",
       "      <td>3726.702860</td>\n",
       "    </tr>\n",
       "    <tr>\n",
       "      <th>1</th>\n",
       "      <td>1</td>\n",
       "      <td>0</td>\n",
       "      <td>1</td>\n",
       "      <td>0</td>\n",
       "      <td>0</td>\n",
       "      <td>0</td>\n",
       "      <td>0</td>\n",
       "      <td>1</td>\n",
       "      <td>51</td>\n",
       "      <td>17612.998120</td>\n",
       "      <td>4193.190458</td>\n",
       "    </tr>\n",
       "    <tr>\n",
       "      <th>2</th>\n",
       "      <td>1</td>\n",
       "      <td>0</td>\n",
       "      <td>1</td>\n",
       "      <td>0</td>\n",
       "      <td>0</td>\n",
       "      <td>0</td>\n",
       "      <td>1</td>\n",
       "      <td>0</td>\n",
       "      <td>53</td>\n",
       "      <td>17505.192460</td>\n",
       "      <td>2434.234222</td>\n",
       "    </tr>\n",
       "    <tr>\n",
       "      <th>3</th>\n",
       "      <td>1</td>\n",
       "      <td>0</td>\n",
       "      <td>0</td>\n",
       "      <td>1</td>\n",
       "      <td>0</td>\n",
       "      <td>0</td>\n",
       "      <td>1</td>\n",
       "      <td>0</td>\n",
       "      <td>78</td>\n",
       "      <td>12993.437350</td>\n",
       "      <td>2127.830423</td>\n",
       "    </tr>\n",
       "    <tr>\n",
       "      <th>4</th>\n",
       "      <td>1</td>\n",
       "      <td>0</td>\n",
       "      <td>1</td>\n",
       "      <td>0</td>\n",
       "      <td>0</td>\n",
       "      <td>1</td>\n",
       "      <td>0</td>\n",
       "      <td>0</td>\n",
       "      <td>22</td>\n",
       "      <td>3716.525786</td>\n",
       "      <td>2113.073274</td>\n",
       "    </tr>\n",
       "  </tbody>\n",
       "</table>\n",
       "</div>"
      ],
      "text/plain": [
       "   ReAdmis_No  ReAdmis_Yes  Gender_Female  Gender_Male  Gender_Nonbinary  \\\n",
       "0           1            0              0            1                 0   \n",
       "1           1            0              1            0                 0   \n",
       "2           1            0              1            0                 0   \n",
       "3           1            0              0            1                 0   \n",
       "4           1            0              1            0                 0   \n",
       "\n",
       "   Area_Rural  Area_Suburban  Area_Urban  Age  Additional_charges  TotalCharge  \n",
       "0           0              1           0   53        17939.403420  3726.702860  \n",
       "1           0              0           1   51        17612.998120  4193.190458  \n",
       "2           0              1           0   53        17505.192460  2434.234222  \n",
       "3           0              1           0   78        12993.437350  2127.830423  \n",
       "4           1              0           0   22         3716.525786  2113.073274  "
      ]
     },
     "execution_count": 20,
     "metadata": {},
     "output_type": "execute_result"
    }
   ],
   "source": [
    "X2 = X.loc[:,['ReAdmis_No','ReAdmis_Yes','Gender_Female','Gender_Male','Gender_Nonbinary',\n",
    "              'Area_Rural','Area_Suburban','Area_Urban','Age','Additional_charges','TotalCharge']]\n",
    "X2.head()"
   ]
  },
  {
   "cell_type": "code",
   "execution_count": 21,
   "metadata": {},
   "outputs": [
    {
     "name": "stdout",
     "output_type": "stream",
     "text": [
      "                            OLS Regression Results                            \n",
      "==============================================================================\n",
      "Dep. Variable:           Initial_days   R-squared:                       0.978\n",
      "Model:                            OLS   Adj. R-squared:                  0.978\n",
      "Method:                 Least Squares   F-statistic:                 5.462e+04\n",
      "Date:                Thu, 16 Sep 2021   Prob (F-statistic):               0.00\n",
      "Time:                        08:28:17   Log-Likelihood:                -27885.\n",
      "No. Observations:               10000   AIC:                         5.579e+04\n",
      "Df Residuals:                    9991   BIC:                         5.585e+04\n",
      "Df Model:                           8                                         \n",
      "Covariance Type:            nonrobust                                         \n",
      "======================================================================================\n",
      "                         coef    std err          t      P>|t|      [0.025      0.975]\n",
      "--------------------------------------------------------------------------------------\n",
      "const                -11.6228      0.111   -105.083      0.000     -11.840     -11.406\n",
      "ReAdmis_No            -7.4179      0.053   -139.053      0.000      -7.522      -7.313\n",
      "ReAdmis_Yes           -4.2049      0.122    -34.500      0.000      -4.444      -3.966\n",
      "Gender_Female         -3.8543      0.094    -41.112      0.000      -4.038      -3.671\n",
      "Gender_Male           -3.7375      0.094    -39.881      0.000      -3.921      -3.554\n",
      "Gender_Nonbinary      -4.0310      0.197    -20.414      0.000      -4.418      -3.644\n",
      "Area_Rural            -3.8445      0.066    -57.874      0.000      -3.975      -3.714\n",
      "Area_Suburban         -3.8645      0.067    -57.674      0.000      -3.996      -3.733\n",
      "Area_Urban            -3.9139      0.067    -58.527      0.000      -4.045      -3.783\n",
      "Age                    0.0436      0.003     15.923      0.000       0.038       0.049\n",
      "Additional_charges    -0.0002   8.64e-06    -22.518      0.000      -0.000      -0.000\n",
      "TotalCharge            0.0113   3.37e-05    336.574      0.000       0.011       0.011\n",
      "==============================================================================\n",
      "Omnibus:                      617.965   Durbin-Watson:                   1.969\n",
      "Prob(Omnibus):                  0.000   Jarque-Bera (JB):              239.415\n",
      "Skew:                          -0.107   Prob(JB):                     1.03e-52\n",
      "Kurtosis:                       2.273   Cond. No.                     1.37e+20\n",
      "==============================================================================\n",
      "\n",
      "Warnings:\n",
      "[1] Standard Errors assume that the covariance matrix of the errors is correctly specified.\n",
      "[2] The smallest eigenvalue is 1.24e-28. This might indicate that there are\n",
      "strong multicollinearity problems or that the design matrix is singular.\n"
     ]
    }
   ],
   "source": [
    "X_2 = sm.add_constant(X2)\n",
    "model_ols2 = sm.OLS(y, X_2).fit()\n",
    "print(model_ols2.summary())"
   ]
  },
  {
   "cell_type": "code",
   "execution_count": 22,
   "metadata": {},
   "outputs": [
    {
     "data": {
      "image/png": "[encoded data removed]",
      "text/plain": [
       "<Figure size 720x432 with 1 Axes>"
      ]
     },
     "metadata": {
      "needs_background": "light"
     },
     "output_type": "display_data"
    }
   ],
   "source": [
    "results2 = model_ols2.predict()\n",
    "residuals2 = y - results2\n",
    "fig, ax=plt.subplots(figsize=(10,6))\n",
    "stats.probplot(residuals2, dist='norm', plot=plt)\n",
    "plt.show;"
   ]
  },
  {
   "cell_type": "code",
   "execution_count": null,
   "metadata": {},
   "outputs": [],
   "source": []
  }
 ],
 "metadata": {
  "kernelspec": {
   "display_name": "Python 3",
   "language": "python",
   "name": "python3"
  },
  "language_info": {
   "codemirror_mode": {
    "name": "ipython",
    "version": 3
   },
   "file_extension": ".py",
   "mimetype": "text/x-python",
   "name": "python",
   "nbconvert_exporter": "python",
   "pygments_lexer": "ipython3",
   "version": "3.7.1"
  }
 },
 "nbformat": 4,
 "nbformat_minor": 2
}
